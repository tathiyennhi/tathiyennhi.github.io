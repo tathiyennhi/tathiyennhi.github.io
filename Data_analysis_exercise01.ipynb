{
  "nbformat": 4,
  "nbformat_minor": 0,
  "metadata": {
    "colab": {
      "provenance": []
    },
    "kernelspec": {
      "name": "python3",
      "display_name": "Python 3"
    },
    "language_info": {
      "name": "python"
    }
  },
  "cells": [
    {
      "cell_type": "markdown",
      "source": [
        "Câu 1: \n",
        "Để lập mô hình hồi quy tuyến tính mô tả mối quan hệ giữa tổng vốn đầu tư và lãi suất ngân hàng, ta sử dụng mô hình hồi quy đơn (simple linear regression model) với biến độc lập là tổng vốn đầu tư (X) và biến phụ thuộc là lãi suất ngân hàng (Y).\n",
        "\n",
        "Dựa trên đoạn code trước đó, ta đã xây dựng mô hình hồi quy tuyến tính và thu được kết quả. Để mô tả mô hình, ta có các thông số sau:\n",
        "\n",
        "Hệ số hồi quy (coefficients): Trong trường hợp này, hệ số hồi quy đơn giữa tổng vốn đầu tư (X) và lãi suất ngân hàng (Y) được ký hiệu là results.params[1], có giá trị là -9.5323. Điều này cho biết mỗi đơn vị tăng (giảm) trong tổng vốn đầu tư thì lãi suất ngân hàng sẽ giảm (tăng) 9.5323 đơn vị.\n",
        "\n",
        "Ý nghĩa của hệ số hồi quy: Ý nghĩa của hệ số hồi quy trong trường hợp này là cho biết mức độ thay đổi của lãi suất ngân hàng khi tổng vốn đầu tư thay đổi. Hệ số hồi quy âm (-9.5323) cho thấy mối quan hệ nghịch đảo giữa tổng vốn đầu tư và lãi suất ngân hàng, tức là khi tổng vốn đầu tư tăng, lãi suất ngân hàng sẽ giảm và ngược lại.\n",
        "\n",
        "R-squared (R^2): Trong kết quả mô hình, R-squared được đưa ra là 0.920, có nghĩa là mô hình giải thích được 92% sự biến động của lãi suất ngân hàng dựa trên tổng vốn đầu tư. Điều này cho thấy mô hình có mức độ phù hợp tương đối cao trong việc giải thích biến động của lãi suất ngân hàng dựa trên tổng vốn đầu tư.\n",
        "\n",
        "Adjusted R-squared (Adj. R^2): Được tính toán để điều chỉnh cho số lượng biến động dẫn đến mất mát tự do (degrees of freedom). Giá trị này điều chỉnh R-squared để đánh giá mức độ phù hợp của mô hình trong việc giải thích biến động của dữ liệu, đồng thời xem xét số lượng biến động và số lượng quan sát.\n",
        "\n",
        "\n",
        "\n",
        "\n",
        "\n",
        "\n"
      ],
      "metadata": {
        "id": "dY8QdKuJcyL1"
      }
    },
    {
      "cell_type": "code",
      "execution_count": null,
      "metadata": {
        "colab": {
          "base_uri": "https://localhost:8080/"
        },
        "id": "2c16nmo4PnhE",
        "outputId": "51556621-7b13-4381-d5a6-e4de25d67cdf"
      },
      "outputs": [
        {
          "output_type": "stream",
          "name": "stdout",
          "text": [
            "\n",
            "Câu 1: Xây dựng mô hình hồi quy tuyến tính\n",
            "                            OLS Regression Results                            \n",
            "==============================================================================\n",
            "Dep. Variable:                      y   R-squared:                       0.920\n",
            "Model:                            OLS   Adj. R-squared:                  0.910\n",
            "Method:                 Least Squares   F-statistic:                     91.78\n",
            "Date:                Fri, 26 May 2023   Prob (F-statistic):           1.17e-05\n",
            "Time:                        02:28:05   Log-Likelihood:                -21.096\n",
            "No. Observations:                  10   AIC:                             46.19\n",
            "Df Residuals:                       8   BIC:                             46.80\n",
            "Df Model:                           1                                         \n",
            "Covariance Type:            nonrobust                                         \n",
            "==============================================================================\n",
            "                 coef    std err          t      P>|t|      [0.025      0.975]\n",
            "------------------------------------------------------------------------------\n",
            "const         93.1642      5.863     15.889      0.000      79.643     106.685\n",
            "x1            -9.5323      0.995     -9.580      0.000     -11.827      -7.238\n",
            "==============================================================================\n",
            "Omnibus:                        0.372   Durbin-Watson:                   1.116\n",
            "Prob(Omnibus):                  0.830   Jarque-Bera (JB):                0.366\n",
            "Skew:                          -0.341   Prob(JB):                        0.833\n",
            "Kurtosis:                       2.357   Cond. No.                         50.4\n",
            "==============================================================================\n",
            "\n",
            "Notes:\n",
            "[1] Standard Errors assume that the covariance matrix of the errors is correctly specified.\n"
          ]
        },
        {
          "output_type": "stream",
          "name": "stderr",
          "text": [
            "/usr/local/lib/python3.10/dist-packages/scipy/stats/_stats_py.py:1736: UserWarning: kurtosistest only valid for n>=20 ... continuing anyway, n=10\n",
            "  warnings.warn(\"kurtosistest only valid for n>=20 ... continuing \"\n"
          ]
        }
      ],
      "source": [
        "import statsmodels.api as sm\n",
        "import numpy as np\n",
        "from sklearn.utils import resample\n",
        "\n",
        "# Câu 1: Xây dựng mô hình hồi quy tuyến tính\n",
        "X = np.array([7.0, 6.5, 6.5, 6.0, 6.0, 6.0, 5.5, 5.5, 5.0, 4.5])\n",
        "Y = np.array([29, 32, 31, 34, 35, 32, 40, 43, 48, 50])\n",
        "X = sm.add_constant(X)  # Thêm hằng số vào X\n",
        "\n",
        "model = sm.OLS(Y, X)  \n",
        "results = model.fit()  # Tiến hành phân tích\n",
        "# In kết quả mô hình\n",
        "print(\"\\nCâu 1: Xây dựng mô hình hồi quy tuyến tính\")\n",
        "print(results.summary())\n"
      ]
    },
    {
      "cell_type": "markdown",
      "source": [
        "Câu 2: Dựa trên kết quả mô tả mô hình hồi quy tuyến tính, chúng ta có thể rút ra các kết luận sau:\n",
        "\n",
        "Ý nghĩa của các hệ số hồi quy:\n",
        "\n",
        "Hệ số hồi quy const (hằng số): Có giá trị là 93.1642 và có ý nghĩa thống kê với p-value rất nhỏ (0.000). Điều này cho biết tổng vốn đầu tư có ảnh hưởng đáng kể đến biến phụ thuộc (lãi suất ngân hàng).\n",
        "\n",
        "Hệ số hồi quy x1 (lãi suất ngân hàng): Có giá trị là -9.5323 và cũng có ý nghĩa thống kê với p-value rất nhỏ (0.000). Điều này cho biết lãi suất ngân hàng có ảnh hưởng đáng kể đến tổng vốn đầu tư.\n",
        "Đánh giá mức độ phù hợp của mô hình:\n",
        "\n",
        "R-squared (R^2): Có giá trị là 0.920, cho thấy mô hình hồi quy tuyến tính giải thích được khoảng 92% sự biến thiên của biến phụ thuộc (tổng vốn đầu tư). R^2 càng gần 1 thì mô hình càng phù hợp.\n",
        "\n",
        "F-statistic: Có giá trị là 91.78 và p-value rất nhỏ (1.17e-05), cho thấy mô hình có sự ảnh hưởng đáng kể đến biến phụ thuộc. Điều này chỉ ra rằng tổng vốn đầu tư và lãi suất ngân hàng có mối quan hệ đáng kể.\n",
        "\n",
        "Tổng quan, mô hình hồi quy tuyến tính đơn giữa tổng vốn đầu tư và lãi suất ngân hàng có ý nghĩa thống kê và mức độ phù hợp tương đối cao. Tuy nhiên, cần lưu ý rằng số lượng quan sát trong mô hình chỉ là 10, do đó kết quả cần được xem xét thận trọng và không áp dụng tổng quát cho quần thể lớn hơn.\n",
        "\n",
        "\n",
        "\n",
        "\n"
      ],
      "metadata": {
        "id": "2Ljge_yrah1x"
      }
    },
    {
      "cell_type": "code",
      "source": [
        "# Câu 2: Ý nghĩa của các hệ số hồi quy\n",
        "print(\"\\nCâu 2: Ý nghĩa của các hệ số hồi quy\")\n",
        "print(f\"Hệ số hồi quy 0 (hằng số): {results.params[0]}\")\n",
        "print(f\"Hệ số hồi quy 1: {results.params[1]}\")"
      ],
      "metadata": {
        "colab": {
          "base_uri": "https://localhost:8080/"
        },
        "id": "Sp1A_SE34NlL",
        "outputId": "5c5650e1-7e3e-4e69-b208-7117fa0821d8"
      },
      "execution_count": null,
      "outputs": [
        {
          "output_type": "stream",
          "name": "stdout",
          "text": [
            "\n",
            "Câu 2: Ý nghĩa của các hệ số hồi quy\n",
            "Hệ số hồi quy 0 (hằng số): 93.16417910447765\n",
            "Hệ số hồi quy 1: -9.532338308457724\n"
          ]
        }
      ]
    },
    {
      "cell_type": "markdown",
      "source": [
        "Câu 3: \n",
        "Cách kiểm định sau sử dụng phương pháp bootstrap để tạo ra các mẫu tái chọn (bootstrap samples) từ mẫu gốc. Cụ thể, các mẫu bootstrap được lấy từ mẫu gốc bằng cách lấy ngẫu nhiên các quan sát có hoàn lại. Sau đó, mô hình hồi quy tuyến tính được đào tạo trên mỗi mẫu bootstrap để tính toán hệ số hồi quy.\n",
        "\n",
        "Cách kiểm định đầu tiên trong đoạn code ban đầu sử dụng các phép tính thống kê từ thư viện scipy.stats để tính toán giá trị t-statistic và p-value dựa trên mô hình hồi quy tuyến tính ban đầu. Tuy nhiên, phương pháp này có một giả định rằng mẫu phải có số lượng quan sát lớn hơn hoặc bằng 20 để kết quả kiểm định có ý nghĩa. Trong trường hợp mẫu nhỏ hơn 20 (như trong ví dụ của bạn với n = 10), kết quả kiểm định có thể không chính xác hoặc không đáng tin cậy.\n",
        "\n",
        "Do đó, cách kiểm định sau sử dụng phương pháp bootstrap để tạo ra các mẫu tái chọn và đào tạo mô hình hồi quy trên mỗi mẫu bootstrap để tính toán giá trị dự báo và khoảng tin cậy. Phương pháp bootstrap không có giả định về kích thước mẫu và có thể áp dụng cho các mẫu nhỏ.\n",
        "\n",
        "\n",
        "\n",
        "\n"
      ],
      "metadata": {
        "id": "Z7vMmn5vfkOR"
      }
    },
    {
      "cell_type": "code",
      "source": [
        "# Câu 3: Kiểm định giả thiết \"Hệ số hồi quy của X bằng 0 với mức ý nghĩa 2%\" sử dụng bootstrapping\n",
        "hypothesis = \"X = 0\"\n",
        "\n",
        "n_bootstrap = 1000  # Số lần lấy mẫu bootstrap\n",
        "bootstrap_coefficients = []\n",
        "for _ in range(n_bootstrap):\n",
        "    bootstrap_sample = resample(X, replace=True)  # Lấy mẫu theo phương pháp bootstrap\n",
        "    bootstrap_X = bootstrap_sample[:, :2]  # Lấy X từ mẫu bootstrap\n",
        "    bootstrap_Y = bootstrap_sample[:, :1]  # Lấy Y từ mẫu bootstrap\n",
        "    bootstrap_model = sm.OLS(bootstrap_Y, bootstrap_X)  # Xây dựng mô hình bootstrap\n",
        "    bootstrap_results = bootstrap_model.fit()  # Đào tạo mô hình bootstrap\n",
        "    bootstrap_coefficients.append(bootstrap_results.params[1])  # Lưu trữ hệ số hồi quy của X\n",
        "\n",
        "# Tính p-value\n",
        "observed_coefficient = results.params[1]  # Hệ số hồi quy quan sát\n",
        "p_value = (np.abs(bootstrap_coefficients) >= np.abs(observed_coefficient)).mean()\n",
        "\n",
        "# In kết quả kiểm định\n",
        "print(\"Kiểm định giả thiết\")\n",
        "print(f\"Giả thiết: {hypothesis}\")\n",
        "print(f\"Giá trị quan sát t: {observed_coefficient}\")\n",
        "print(f\"Giá trị p-value: {p_value}\")\n",
        "alpha = 0.02\n",
        "if p_value < alpha:\n",
        "    print(\"\\nCâu 3: Kiểm định giả thiết Hệ số hồi quy của X bằng 0 với mức ý nghĩa 2%\")\n",
        "    print(\"Kết luận: Có đủ bằng chứng để bác bỏ giả thiết\")\n",
        "else:\n",
        "    print(\"Kết luận: Không đủ bằng chứng để bác bỏ giả thiết\")\n"
      ],
      "metadata": {
        "colab": {
          "base_uri": "https://localhost:8080/"
        },
        "id": "msL9EH-fe6KT",
        "outputId": "27926d6d-35f5-4e20-93d1-79c14e3d6b34"
      },
      "execution_count": null,
      "outputs": [
        {
          "output_type": "stream",
          "name": "stdout",
          "text": [
            "Kiểm định giả thiết\n",
            "Giả thiết: X = 0\n",
            "Giá trị quan sát t: -9.532338308457724\n",
            "Giá trị p-value: 0.0\n",
            "\n",
            "Câu 3: Kiểm định giả thiết Hệ số hồi quy của X bằng 0 với mức ý nghĩa 2%\n",
            "Kết luận: Có đủ bằng chứng để bác bỏ giả thiết\n"
          ]
        }
      ]
    },
    {
      "cell_type": "code",
      "source": [
        "# Câu 3: Kiểm định giả thiết \"Hệ số hồi quy của X bằng 0 với mức ý nghĩa 2%\"\n",
        "hypothesis = \"X = 0\"\n",
        "t_statistic = results.tvalues[1]\n",
        "p_value = results.pvalues[1]\n",
        "\n",
        "# In kết quả kiểm định\n",
        "print(\"Kiểm định giả thiết\")\n",
        "print(f\"Giả thiết: {hypothesis}\")\n",
        "print(f\"Giá trị t-statistic: {t_statistic}\")\n",
        "print(f\"Giá trị p-value: {p_value}\")\n",
        "alpha = 0.02\n",
        "if p_value < alpha:\n",
        "    print(\"\\nCâu 3: Kiểm định giả thiết Hệ số hồi quy của X bằng 0 với mức ý nghĩa 2%\")\n",
        "    print(\"Kết luận: Có đủ bằng chứng để bác bỏ giả thiết\")\n",
        "else:\n",
        "    print(\"Kết luận: Không đủ bằng chứng để bác bỏ giả thiết\")\n"
      ],
      "metadata": {
        "colab": {
          "base_uri": "https://localhost:8080/"
        },
        "id": "j0jThv6u4dcu",
        "outputId": "22054a4f-8181-4e91-dd52-fa4b4ef1c4e9"
      },
      "execution_count": null,
      "outputs": [
        {
          "output_type": "stream",
          "name": "stdout",
          "text": [
            "Kiểm định giả thiết\n",
            "Giả thiết: X = 0\n",
            "Giá trị t-statistic: -9.580000000000005\n",
            "Giá trị p-value: 1.1682439930331031e-05\n",
            "\n",
            "Câu 3: Kiểm định giả thiết Hệ số hồi quy của X bằng 0 với mức ý nghĩa 2%\n",
            "Kết luận: Có đủ bằng chứng để bác bỏ giả thiết\n"
          ]
        }
      ]
    },
    {
      "cell_type": "code",
      "source": [
        "# Câu 4: Dự báo tổng vốn đầu tư trung bình khi lãi suất là 4.8% năm với độ tin cậy 98%\n",
        "new_X = np.array([1, 4.8])  # Giá trị mới cho X (bao gồm hằng số 1)\n",
        "\n",
        "# Tạo mẫu bootstrap\n",
        "n_bootstrap = 1000  # Số lần lấy mẫu\n",
        "bootstrap_predictions = []\n",
        "for _ in range(n_bootstrap):\n",
        "    bootstrap_sample = resample(X, replace=True)  # Lấy mẫu theo phương pháp bootstrap\n",
        "    bootstrap_X = bootstrap_sample[:, :2]  # Lấy X từ mẫu bootstrap\n",
        "    bootstrap_Y = bootstrap_sample[:, :1]  # Lấy Y từ mẫu bootstrap\n",
        "    bootstrap_model = sm.OLS(bootstrap_Y, bootstrap_X)  # Xây dựng mô hình bootstrap\n",
        "    bootstrap_results = bootstrap_model.fit()  # Đào tạo mô hình bootstrap\n",
        "    bootstrap_prediction = np.dot(new_X, bootstrap_results.params)  # Dự đoán Y trên mẫu bootstrap\n",
        "    bootstrap_predictions.append(bootstrap_prediction)\n",
        "\n",
        "# Tính khoảng tin cậy\n",
        "alpha = 0.02\n",
        "# Tính khoảng tin cậy\n",
        "lower_bound = np.percentile(bootstrap_predictions, alpha/2 * 100)\n",
        "upper_bound = np.percentile(bootstrap_predictions, (1 - alpha/2) * 100)\n",
        "\n",
        "# In kết quả dự báo\n",
        "print(\"\\nCâu 4: Dự báo tổng vốn đầu tư trung bình\")\n",
        "print(f\"Giá trị dự báo: {np.mean(bootstrap_predictions)}\")\n",
        "print(f\"Khoảng tin cậy {100*(1-alpha)}%: ({lower_bound}, {upper_bound})\")"
      ],
      "metadata": {
        "colab": {
          "base_uri": "https://localhost:8080/"
        },
        "id": "ASl8d6nC4HuJ",
        "outputId": "38bc0ffe-b949-4f1c-8257-6e0f76224cd8"
      },
      "execution_count": null,
      "outputs": [
        {
          "output_type": "stream",
          "name": "stdout",
          "text": [
            "\n",
            "Câu 4: Dự báo tổng vốn đầu tư trung bình\n",
            "Giá trị dự báo: 0.9999999999999998\n",
            "Khoảng tin cậy 98.0%: (0.9999999999999988, 1.0000000000000009)\n"
          ]
        }
      ]
    }
  ]
}